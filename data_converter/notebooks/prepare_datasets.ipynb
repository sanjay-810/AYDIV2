{
 "cells": [
  {
   "cell_type": "markdown",
   "metadata": {},
   "source": [
    "## Dataset Path configuration\n",
    "\n",
    "<pre>\n",
    "Please modify <b>config_path.py</b> first.\n",
    "\n",
    "Raw datasets will be organized as the following structure:\n",
    "\n",
    "dataset_path/\n",
    "    | kitti/               # KITTI object detection 3D dataset\n",
    "        | training/\n",
    "        | testing/\n",
    "    | argo/                # Argoverse dataset v1.1\n",
    "        | train1/\n",
    "        | train2/\n",
    "        | train3/\n",
    "        | train4/\n",
    "        | val/\n",
    "        | test/\n",
    "    | nusc/                # nuScenes dataset v1.0\n",
    "        | maps/\n",
    "        | samples/\n",
    "        | sweeps/\n",
    "        | v1.0-trainval/\n",
    "    | lyft/                # Lyft Level 5 dataset v1.02\n",
    "        | v1.02-train/\n",
    "    | waymo/               # Waymo dataset v1.0\n",
    "        | training/\n",
    "        | validation/\n",
    "</pre>"
   ]
  },
  {
   "cell_type": "code",
   "execution_count": null,
   "metadata": {},
   "outputs": [],
   "source": [
    "import sys\n",
    "sys.path.insert(0, \"..\")\n",
    "from config_path import raw_path_dic as path_dic"
   ]
  },
  {
   "cell_type": "markdown",
   "metadata": {},
   "source": [
    "---\n",
    "## Download the datasets\n",
    "We provide scripts for automatic downloading. \n",
    "\n",
    "If you already have some of these datasets, you may create soft links following our path configuration and skip the corresponding download scripts."
   ]
  },
  {
   "cell_type": "markdown",
   "metadata": {},
   "source": [
    "### KITTI"
   ]
  },
  {
   "cell_type": "code",
   "execution_count": null,
   "metadata": {},
   "outputs": [],
   "source": [
    "from download import download_kitti\n",
    "\n",
    "download_kitti(path_dic[\"kitti\"])"
   ]
  },
  {
   "cell_type": "markdown",
   "metadata": {},
   "source": [
    "### Argoverse"
   ]
  },
  {
   "cell_type": "code",
   "execution_count": null,
   "metadata": {},
   "outputs": [],
   "source": [
    "from download import download_argo\n",
    "\n",
    "download_argo(path_dic[\"argo\"])"
   ]
  },
  {
   "cell_type": "markdown",
   "metadata": {},
   "source": [
    "### nuScenes\n",
    "Please visit [this link](https://www.nuscenes.org/download)"
   ]
  },
  {
   "cell_type": "markdown",
   "metadata": {},
   "source": [
    "### Lyft\n",
    "Please visit [this link](https://level5.lyft.com/dataset/download-dataset/)"
   ]
  },
  {
   "cell_type": "markdown",
   "metadata": {},
   "source": [
    "### Waymo"
   ]
  },
  {
   "cell_type": "code",
   "execution_count": null,
   "metadata": {},
   "outputs": [],
   "source": [
    "from download import download_waymo\n",
    "\n",
    "download_waymo(path_dic[\"waymo\"])"
   ]
  },
  {
   "cell_type": "markdown",
   "metadata": {},
   "source": [
    "---\n",
    "\n",
    "## Convert the datasets to KITTI format\n",
    "We use KITTI format as the uniform interface for data loading, and convert all other datasets to KITTI format."
   ]
  },
  {
   "cell_type": "markdown",
   "metadata": {},
   "source": [
    "### Argoverse"
   ]
  },
  {
   "cell_type": "code",
   "execution_count": null,
   "metadata": {},
   "outputs": [
    {
     "name": "stdout",
     "output_type": "stream",
     "text": [
      "^C\n"
     ]
    },
    {
     "name": "stdout",
     "output_type": "stream",
     "text": [
      "Collecting git+git://github.com/argoai/argoverse-api.git\n",
      "  Cloning git://github.com/argoai/argoverse-api.git to c:\\users\\hp\\appdata\\local\\temp\\pip-req-build-j1_uj_o5\n"
     ]
    },
    {
     "name": "stderr",
     "output_type": "stream",
     "text": [
      "WARNING: Ignoring invalid distribution - (c:\\users\\hp\\appdata\\local\\programs\\python\\python310\\lib\\site-packages)\n",
      "WARNING: Ignoring invalid distribution -orch (c:\\users\\hp\\appdata\\local\\programs\\python\\python310\\lib\\site-packages)\n",
      "WARNING: Ignoring invalid distribution -pencv-python (c:\\users\\hp\\appdata\\local\\programs\\python\\python310\\lib\\site-packages)\n",
      "WARNING: Ignoring invalid distribution -rotobuf (c:\\users\\hp\\appdata\\local\\programs\\python\\python310\\lib\\site-packages)\n",
      "  Running command git clone --filter=blob:none --quiet git://github.com/argoai/argoverse-api.git 'C:\\Users\\hp\\AppData\\Local\\Temp\\pip-req-build-j1_uj_o5'\n",
      "  fatal: Could not read from remote repository.\n",
      "\n",
      "  Please make sure you have the correct access rights\n",
      "  and the repository exists.\n",
      "  error: subprocess-exited-with-error\n",
      "  \n",
      "  × git clone --filter=blob:none --quiet git://github.com/argoai/argoverse-api.git 'C:\\Users\\hp\\AppData\\Local\\Temp\\pip-req-build-j1_uj_o5' did not run successfully.\n",
      "  │ exit code: 128\n",
      "  ╰─> See above for output.\n",
      "  \n",
      "  note: This error originates from a subprocess, and is likely not a problem with pip.\n",
      "error: subprocess-exited-with-error\n",
      "\n",
      "× git clone --filter=blob:none --quiet git://github.com/argoai/argoverse-api.git 'C:\\Users\\hp\\AppData\\Local\\Temp\\pip-req-build-j1_uj_o5' did not run successfully.\n",
      "│ exit code: 128\n",
      "╰─> See above for output.\n",
      "\n",
      "note: This error originates from a subprocess, and is likely not a problem with pip.\n"
     ]
    }
   ],
   "source": [
    "!pip install git+git://github.com/argoai/argoverse-api.git"
   ]
  },
  {
   "cell_type": "code",
   "execution_count": 4,
   "metadata": {},
   "outputs": [
    {
     "ename": "ModuleNotFoundError",
     "evalue": "No module named 'argoverse'",
     "output_type": "error",
     "traceback": [
      "\u001b[1;31m---------------------------------------------------------------------------\u001b[0m",
      "\u001b[1;31mModuleNotFoundError\u001b[0m                       Traceback (most recent call last)",
      "\u001b[1;32mc:\\Users\\hp\\Downloads\\3D_adapt_auto_driving-master\\notebooks\\prepare_datasets.ipynb Cell 15\u001b[0m line \u001b[0;36m1\n\u001b[1;32m----> <a href='vscode-notebook-cell:/c%3A/Users/hp/Downloads/3D_adapt_auto_driving-master/notebooks/prepare_datasets.ipynb#X31sZmlsZQ%3D%3D?line=0'>1</a>\u001b[0m \u001b[39mfrom\u001b[39;00m \u001b[39margo2kitti\u001b[39;00m \u001b[39mimport\u001b[39;00m argo_to_kitti\n",
      "File \u001b[1;32mc:\\Users\\hp\\Downloads\\3D_adapt_auto_driving-master\\notebooks\\argo2kitti.py:1\u001b[0m\n\u001b[1;32m----> 1\u001b[0m \u001b[39mfrom\u001b[39;00m \u001b[39margoverse\u001b[39;00m\u001b[39m.\u001b[39;00m\u001b[39mutils\u001b[39;00m\u001b[39m.\u001b[39;00m\u001b[39mcamera_stats\u001b[39;00m \u001b[39mimport\u001b[39;00m RING_CAMERA_LIST, STEREO_CAMERA_LIST, get_image_dims_for_camera, STEREO_IMG_WIDTH, STEREO_IMG_HEIGHT, RING_IMG_HEIGHT, RING_IMG_WIDTH\n\u001b[0;32m      2\u001b[0m \u001b[39mimport\u001b[39;00m \u001b[39margparse\u001b[39;00m\n\u001b[0;32m      3\u001b[0m \u001b[39mimport\u001b[39;00m \u001b[39mos\u001b[39;00m\n",
      "\u001b[1;31mModuleNotFoundError\u001b[0m: No module named 'argoverse'"
     ]
    }
   ],
   "source": [
    "from argo2kitti import argo_to_kitti"
   ]
  },
  {
   "cell_type": "markdown",
   "metadata": {},
   "source": [
    "### nuScenes"
   ]
  },
  {
   "cell_type": "code",
   "execution_count": null,
   "metadata": {},
   "outputs": [],
   "source": [
    "!pip install git+git://github.com/nutonomy/nuscenes-devkit.git\n",
    "from convert import nusc_to_kitti\n",
    "\n",
    "nusc_to_kitti(path_dic[\"nusc\"], path_dic[\"nusc-in-kitti-format\"])"
   ]
  },
  {
   "cell_type": "markdown",
   "metadata": {},
   "source": [
    "### Lyft"
   ]
  },
  {
   "cell_type": "code",
   "execution_count": null,
   "metadata": {},
   "outputs": [],
   "source": [
    "!pip install -U git+https://github.com/lyft/nuscenes-devkit\n",
    "from convert import lyft_to_kitti\n",
    "\n",
    "lyft_to_kitti(path_dic[\"lyft\"], path_dic[\"lyft-in-kitti-format\"])"
   ]
  },
  {
   "cell_type": "markdown",
   "metadata": {},
   "source": [
    "### Waymo"
   ]
  },
  {
   "cell_type": "code",
   "execution_count": null,
   "metadata": {},
   "outputs": [],
   "source": [
    "!pip install tensorflow==1.15      # CPU\n",
    "#!pip install tensorflow-gpu==1.15  # GPU\n",
    "!pip install git+git://github.com/waymo-research/waymo-open-dataset.git\n",
    "from convert import waymo_to_kitti\n",
    "\n",
    "waymo_to_kitti(path_dic[\"waymo\"], path_dic[\"waymo-in-kitti-format\"])"
   ]
  },
  {
   "cell_type": "markdown",
   "metadata": {},
   "source": [
    "---\n",
    "\n",
    "## Subsample & Re-split\n",
    "We subsampled and re-split the datasets to balance training time and enable offline evaluation.\n",
    "\n",
    "We provide our split lists for result reproduction."
   ]
  },
  {
   "cell_type": "code",
   "execution_count": null,
   "metadata": {},
   "outputs": [],
   "source": [
    "from split import replace_split\n",
    "\n",
    "replace_split(path_dic)"
   ]
  },
  {
   "cell_type": "code",
   "execution_count": null,
   "metadata": {},
   "outputs": [],
   "source": []
  },
  {
   "cell_type": "code",
   "execution_count": null,
   "metadata": {},
   "outputs": [],
   "source": []
  },
  {
   "cell_type": "code",
   "execution_count": null,
   "metadata": {},
   "outputs": [],
   "source": [
    "import numpy as np\n",
    "from scipy.integrate import quad\n",
    "\n",
    "def entanglement_entropy(m, kappa, lambda_):\n",
    "    lambda_plus = (kappa * (1 - lambda_) + lambda_ * (1 - kappa))**2\n",
    "    lambda_minus = (kappa * (1 - lambda_) - lambda_ * (1 - kappa))**2\n",
    "    \n",
    "    def f(x):\n",
    "        term1 = (1 / (2 * np.pi * lambda_)) * ((lambda_plus - x) * (x - lambda_minus)) / (x * (1 - x))\n",
    "        term2 = (1 - kappa / lambda_) if lambda_ > kappa else 0\n",
    "        return term1 + term2\n",
    "    \n",
    "    def integrand(x):\n",
    "        return -x * np.log(x) - (1 - x) * np.log(1 - x) * f(x)\n",
    "    \n",
    "    integral, _ = quad(integrand, lambda_minus, lambda_plus)\n",
    "    return m * integral\n",
    "\n",
    "N = 1000\n",
    "# To compute the entanglement entropy for specific values of kappa and lambda, you can call:\n",
    "result = entanglement_entropy(N, kappa, lambda_)"
   ]
  }
 ],
 "metadata": {
  "kernelspec": {
   "display_name": "Python 3",
   "language": "python",
   "name": "python3"
  },
  "language_info": {
   "codemirror_mode": {
    "name": "ipython",
    "version": 3
   },
   "file_extension": ".py",
   "mimetype": "text/x-python",
   "name": "python",
   "nbconvert_exporter": "python",
   "pygments_lexer": "ipython3",
   "version": "3.10.11"
  },
  "pycharm": {
   "stem_cell": {
    "cell_type": "raw",
    "metadata": {
     "collapsed": false
    },
    "source": []
   }
  }
 },
 "nbformat": 4,
 "nbformat_minor": 2
}
